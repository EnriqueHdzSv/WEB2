{
  "nbformat": 4,
  "nbformat_minor": 0,
  "metadata": {
    "colab": {
      "provenance": [],
      "authorship_tag": "ABX9TyPJbYvGDd4vDlILDvXxVRcf",
      "include_colab_link": true
    },
    "kernelspec": {
      "name": "python3",
      "display_name": "Python 3"
    },
    "language_info": {
      "name": "python"
    }
  },
  "cells": [
    {
      "cell_type": "markdown",
      "metadata": {
        "id": "view-in-github",
        "colab_type": "text"
      },
      "source": [
        "<a href=\"https://colab.research.google.com/github/EnriqueHdzSv/WEB2/blob/master/PrograWeb2.ipynb\" target=\"_parent\"><img src=\"https://colab.research.google.com/assets/colab-badge.svg\" alt=\"Open In Colab\"/></a>"
      ]
    },
    {
      "cell_type": "code",
      "execution_count": null,
      "metadata": {
        "colab": {
          "base_uri": "https://localhost:8080/"
        },
        "id": "uNLDuRRKJvB4",
        "outputId": "e592583c-9138-4398-8624-415eb60b9ca5"
      },
      "outputs": [
        {
          "output_type": "stream",
          "name": "stdout",
          "text": [
            "¿Cual es tu nombre?: Enrique\n",
            "Tu nombre es: Enrique\n"
          ]
        }
      ],
      "source": [
        "nombre = input(\"¿Cual es tu nombre?: \")\n",
        "print (\"Tu nombre es: \" + nombre)"
      ]
    },
    {
      "cell_type": "code",
      "source": [
        "print (\"Suma de dos numeros\")\n",
        "a = int(input(\"Primer digito: \"))\n",
        "b = int(input(\"Segundo digito \"))\n",
        "print(a+b)"
      ],
      "metadata": {
        "colab": {
          "base_uri": "https://localhost:8080/"
        },
        "id": "Grgc4o_SLCdz",
        "outputId": "2365db0e-023e-412e-ecf9-903548ce65ac"
      },
      "execution_count": null,
      "outputs": [
        {
          "output_type": "stream",
          "name": "stdout",
          "text": [
            "Suma de dos numeros\n",
            "Primer digito: 6\n",
            "Segundo digito 7\n",
            "13\n"
          ]
        }
      ]
    },
    {
      "cell_type": "code",
      "source": [
        "print(\"Tienes derecho a pase reglamentado\")\n",
        "prepa = input(\"¿Terminaste la prepa en 3 años? s/n: \")\n",
        "promedio =input(\"Alcanzas promedio: s/n: \")\n",
        "if prepa==\"s\" and promedio==\"s\":\n",
        "  print(\"Tienes pase reglamentado\")\n",
        "else: \n",
        "  print(\"No tienes pase reglamentado\")"
      ],
      "metadata": {
        "colab": {
          "base_uri": "https://localhost:8080/"
        },
        "id": "-t5_6I-oMvDe",
        "outputId": "fd8ac1e3-2d91-4cab-f21d-a31cae888bbd"
      },
      "execution_count": null,
      "outputs": [
        {
          "output_type": "stream",
          "name": "stdout",
          "text": [
            "Tienes derecho a pase reglamentado\n",
            "¿Terminaste la prepa en 3 años? s/n: s\n",
            "Alcanzas promedio: s/n: n\n",
            "No tienes pase reglamentado\n"
          ]
        }
      ]
    },
    {
      "cell_type": "code",
      "source": [
        "print(\"Acesso a la FES\")\n",
        "credencial = input(\"¿Traes la credencial de la FES? s/n: \")\n",
        "tira = input(\"¿Tienes contigo la tira de materias? s/n: \")\n",
        "\n",
        "if credencial==\"s\" or tira==\"s\":\n",
        "  print(\"Pasa\")\n",
        "else:\n",
        "  print(\"No pasas\")\n"
      ],
      "metadata": {
        "colab": {
          "base_uri": "https://localhost:8080/"
        },
        "id": "HawoHAAcPQpQ",
        "outputId": "e4e256fc-c850-496e-86e7-1331e707435f"
      },
      "execution_count": null,
      "outputs": [
        {
          "output_type": "stream",
          "name": "stdout",
          "text": [
            "Acesso a la FES\n",
            "¿Traes la credencial de la FES? s/n: s\n",
            "¿Tienes contigo la tira de materias? s/n: n\n",
            "Pasa\n"
          ]
        }
      ]
    },
    {
      "cell_type": "code",
      "source": [
        "pago = input(\"Se pago el recibo de luz: s/n: \")\n",
        "if not pago==\"s\":\n",
        "  print(\"Debes pagar el recibo\")\n",
        "else:\n",
        "  print(\"Bien\")"
      ],
      "metadata": {
        "colab": {
          "base_uri": "https://localhost:8080/"
        },
        "id": "FJlDGGFjn8tk",
        "outputId": "676c7da3-1df9-49fd-e0c6-3cf0399369fc"
      },
      "execution_count": null,
      "outputs": [
        {
          "output_type": "stream",
          "name": "stdout",
          "text": [
            "Se pago el recibo de luz: s/n: n\n",
            "Debes pagar el recibo\n"
          ]
        }
      ]
    },
    {
      "cell_type": "code",
      "source": [
        "digito = int(input(\"Dame un numero del 1 al 10: \"))\n",
        "if digito>0 and digito<10:\n",
        "  print(\"Correcto\") \n",
        "else:\n",
        "  print(\"incorrecto\")"
      ],
      "metadata": {
        "colab": {
          "base_uri": "https://localhost:8080/"
        },
        "id": "oS69Y6oEh2-O",
        "outputId": "b7109ed9-9532-4085-ae6b-a3234984e1cf"
      },
      "execution_count": 4,
      "outputs": [
        {
          "output_type": "stream",
          "name": "stdout",
          "text": [
            "Dame un numero del 1 al 10: 4\n",
            "Correcto\n"
          ]
        }
      ]
    },
    {
      "cell_type": "code",
      "source": [
        "numero = int(input(\"Adivina mi numero del 1-10: \"))\n",
        "while numero!=7:\n",
        "    if numero<1 or numero>10:\n",
        "      print(\"El numero debe estar dentro del rango\")\n",
        "      numero = int(input(\"Intenta con otro: \"))\n",
        "    else:\n",
        "      numero = int(input(\"Intenta con otro: \"))\n",
        "if numero==7:\n",
        "    print(\"Adivinaste\")\n"
      ],
      "metadata": {
        "colab": {
          "base_uri": "https://localhost:8080/"
        },
        "id": "e2-owHlquzX2",
        "outputId": "3ed9692e-cb84-4d13-b788-5652e4a7ea09"
      },
      "execution_count": null,
      "outputs": [
        {
          "output_type": "stream",
          "name": "stdout",
          "text": [
            "Adivina mi numero del 1-10: 1\n",
            "Intenta con otro: 2\n",
            "Intenta con otro: 3\n",
            "Intenta con otro: 11\n",
            "El numero debe estar dentro del rango\n",
            "Intenta con otro: 7\n",
            "Adivinaste\n"
          ]
        }
      ]
    }
  ]
}